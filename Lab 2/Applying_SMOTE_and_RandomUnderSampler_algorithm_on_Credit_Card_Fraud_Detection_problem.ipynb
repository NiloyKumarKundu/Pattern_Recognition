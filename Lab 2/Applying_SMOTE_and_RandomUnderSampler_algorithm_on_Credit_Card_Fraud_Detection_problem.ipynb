{
  "nbformat": 4,
  "nbformat_minor": 0,
  "metadata": {
    "colab": {
      "name": "Applying SMOTE and RandomUnderSampler algorithm on Credit Card Fraud Detection problem.ipynb",
      "provenance": [],
      "collapsed_sections": []
    },
    "kernelspec": {
      "name": "python3",
      "display_name": "Python 3"
    },
    "language_info": {
      "name": "python"
    }
  },
  "cells": [
    {
      "cell_type": "code",
      "execution_count": 17,
      "metadata": {
        "id": "OfvqHw1RuDGR"
      },
      "outputs": [],
      "source": [
        "# import necessary modules \n",
        "import pandas  as pd\n",
        "import matplotlib.pyplot as plt\n",
        "import numpy as np\n",
        "from sklearn.preprocessing import StandardScaler\n",
        "from sklearn.metrics import confusion_matrix, classification_report,accuracy_score,precision_score,recall_score\n",
        "import matplotlib.pyplot as plt\n",
        "import pandas as pd\n",
        "import numpy as np\n",
        "import plotly as px\n",
        "import seaborn as sns\n",
        "import matplotlib\n",
        "from sklearn.neighbors import LocalOutlierFactor\n",
        "from sklearn.linear_model import LogisticRegression\n",
        "from sklearn.svm import SVC\n",
        "#from sklearn.svm import OneClassSVM \n",
        "LABELS = [\"Normal\", \"Fraud\"]\n",
        "import os\n",
        "%matplotlib inline\n",
        "\n",
        "\n",
        " "
      ]
    },
    {
      "cell_type": "code",
      "source": [
        " \n",
        "# load the data set\n",
        "data = pd.read_csv('/content/drive/MyDrive/Pattern Lab/creditcard.csv')\n",
        "  \n",
        "# print info about columns in the dataframe\n",
        "print(data.info())"
      ],
      "metadata": {
        "colab": {
          "base_uri": "https://localhost:8080/"
        },
        "id": "rCclQcWqvmLB",
        "outputId": "e5f1696a-22ee-48bb-8159-77c6a826ef8f"
      },
      "execution_count": 23,
      "outputs": [
        {
          "output_type": "stream",
          "name": "stdout",
          "text": [
            "<class 'pandas.core.frame.DataFrame'>\n",
            "RangeIndex: 284807 entries, 0 to 284806\n",
            "Data columns (total 31 columns):\n",
            " #   Column  Non-Null Count   Dtype  \n",
            "---  ------  --------------   -----  \n",
            " 0   Time    284807 non-null  float64\n",
            " 1   V1      284807 non-null  float64\n",
            " 2   V2      284807 non-null  float64\n",
            " 3   V3      284807 non-null  float64\n",
            " 4   V4      284807 non-null  float64\n",
            " 5   V5      284807 non-null  float64\n",
            " 6   V6      284807 non-null  float64\n",
            " 7   V7      284807 non-null  float64\n",
            " 8   V8      284807 non-null  float64\n",
            " 9   V9      284807 non-null  float64\n",
            " 10  V10     284807 non-null  float64\n",
            " 11  V11     284807 non-null  float64\n",
            " 12  V12     284807 non-null  float64\n",
            " 13  V13     284807 non-null  float64\n",
            " 14  V14     284807 non-null  float64\n",
            " 15  V15     284807 non-null  float64\n",
            " 16  V16     284807 non-null  float64\n",
            " 17  V17     284807 non-null  float64\n",
            " 18  V18     284807 non-null  float64\n",
            " 19  V19     284807 non-null  float64\n",
            " 20  V20     284807 non-null  float64\n",
            " 21  V21     284807 non-null  float64\n",
            " 22  V22     284807 non-null  float64\n",
            " 23  V23     284807 non-null  float64\n",
            " 24  V24     284807 non-null  float64\n",
            " 25  V25     284807 non-null  float64\n",
            " 26  V26     284807 non-null  float64\n",
            " 27  V27     284807 non-null  float64\n",
            " 28  V28     284807 non-null  float64\n",
            " 29  Amount  284807 non-null  float64\n",
            " 30  Class   284807 non-null  int64  \n",
            "dtypes: float64(30), int64(1)\n",
            "memory usage: 67.4 MB\n",
            "None\n"
          ]
        }
      ]
    },
    {
      "cell_type": "code",
      "source": [
        "# normalise the amount column\n",
        "data['normAmount'] = StandardScaler().fit_transform(np.array(data['Amount']).reshape(-1, 1))\n",
        "\n",
        " \n",
        "# drop Time and Amount columns as they are not relevant for prediction purpose \n",
        "data = data.drop(['Time', 'Amount'], axis = 1)\n",
        "  \n",
        "# as you can see there are 492 fraud transactions.\n",
        "data['Class'].value_counts()"
      ],
      "metadata": {
        "colab": {
          "base_uri": "https://localhost:8080/"
        },
        "id": "2E5RmaI2vGVz",
        "outputId": "9d22bf94-7969-477f-f2f3-204337f75724"
      },
      "execution_count": 24,
      "outputs": [
        {
          "output_type": "execute_result",
          "data": {
            "text/plain": [
              "0    284315\n",
              "1       492\n",
              "Name: Class, dtype: int64"
            ]
          },
          "metadata": {},
          "execution_count": 24
        }
      ]
    },
    {
      "cell_type": "code",
      "source": [
        "X = data.loc[:,data.columns != 'Class']\n",
        "\n",
        "y = data['Class']\n",
        "\n",
        "\n",
        "print(X.shape)\n",
        "print(y.shape)"
      ],
      "metadata": {
        "colab": {
          "base_uri": "https://localhost:8080/"
        },
        "id": "eb4DsIfT25Uv",
        "outputId": "fdc24d1a-aa4e-415f-cb12-756667dd9196"
      },
      "execution_count": 27,
      "outputs": [
        {
          "output_type": "stream",
          "name": "stdout",
          "text": [
            "(284807, 29)\n",
            "(284807,)\n"
          ]
        }
      ]
    },
    {
      "cell_type": "code",
      "source": [
        "sns.countplot(data.Class)\n",
        "LABELS = [\"Normal\", \"Fraud\"]\n",
        "plt.title('Transaction Class Distribution',fontsize = 18)\n",
        "plt.xticks(range(2), LABELS) \n",
        "plt.xlabel(\"Class\" , fontsize =15)\n",
        "plt.ylabel(\"Frequency\",fontsize = 15)\n",
        "plt.show();"
      ],
      "metadata": {
        "colab": {
          "base_uri": "https://localhost:8080/",
          "height": 360
        },
        "id": "6xuKmN7ovgB_",
        "outputId": "5be2c499-9859-46e9-85a0-e98b916cc6a9"
      },
      "execution_count": 28,
      "outputs": [
        {
          "output_type": "stream",
          "name": "stderr",
          "text": [
            "/usr/local/lib/python3.7/dist-packages/seaborn/_decorators.py:43: FutureWarning: Pass the following variable as a keyword arg: x. From version 0.12, the only valid positional argument will be `data`, and passing other arguments without an explicit keyword will result in an error or misinterpretation.\n",
            "  FutureWarning\n"
          ]
        },
        {
          "output_type": "display_data",
          "data": {
            "text/plain": [
              "<Figure size 432x288 with 1 Axes>"
            ],
            "image/png": "[encoded data removed]"
          },
          "metadata": {
            "needs_background": "light"
          }
        }
      ]
    },
    {
      "cell_type": "code",
      "source": [
        "from sklearn.model_selection import train_test_split\n",
        "  \n",
        "# split into 70:30 ration\n",
        "X_train, X_test, y_train, y_test = train_test_split(X, y, test_size = 0.3, random_state = 0)\n",
        "  \n",
        "# describes info about train and test set\n",
        "print(\"Number transactions X_train dataset: \", X_train.shape)\n",
        "print(\"Number transactions y_train dataset: \", y_train.shape)\n",
        "print(\"Number transactions X_test dataset: \", X_test.shape)\n",
        "print(\"Number transactions y_test dataset: \", y_test.shape)"
      ],
      "metadata": {
        "colab": {
          "base_uri": "https://localhost:8080/"
        },
        "id": "hoXlZLDRvNmT",
        "outputId": "20a0279b-27d6-474d-be0e-807da37981ba"
      },
      "execution_count": 29,
      "outputs": [
        {
          "output_type": "stream",
          "name": "stdout",
          "text": [
            "Number transactions X_train dataset:  (199364, 29)\n",
            "Number transactions y_train dataset:  (199364,)\n",
            "Number transactions X_test dataset:  (85443, 29)\n",
            "Number transactions y_test dataset:  (85443,)\n"
          ]
        }
      ]
    },
    {
      "cell_type": "code",
      "source": [
        "# Created a common function to plot confusion matrix\n",
        "def Plot_confusion_matrix(y_test, pred_test):\n",
        "  cm = confusion_matrix(y_test, pred_test)\n",
        "  plt.clf()\n",
        "  plt.imshow(cm, interpolation='nearest', cmap=plt.cm.Accent)\n",
        "  categoryNames = ['Non-Fraudalent','Fraudalent']\n",
        "  plt.title('Confusion Matrix - Test Data')\n",
        "  plt.ylabel('True label')\n",
        "  plt.xlabel('Predicted label')\n",
        "  ticks = np.arange(len(categoryNames))\n",
        "  plt.xticks(ticks, categoryNames, rotation=45)\n",
        "  plt.yticks(ticks, categoryNames)\n",
        "  s = [['TN','FP'], ['FN', 'TP']]\n",
        "  \n",
        "  for i in range(2):\n",
        "      for j in range(2):\n",
        "          plt.text(j,i, str(s[i][j])+\" = \"+str(cm[i][j]),fontsize=12)\n",
        "  plt.show()"
      ],
      "metadata": {
        "id": "v9KzDMnIxQj_"
      },
      "execution_count": 30,
      "outputs": []
    },
    {
      "cell_type": "code",
      "source": [
        "#Run Logistic Regression.\n",
        "\n",
        "print(\"\\tLogistic Regression\")\n",
        "LR = LogisticRegression()\n",
        "\n",
        "#training \n",
        "LR.fit(X_train, y_train.ravel())\n",
        "\n",
        "#find predicted vallues\n",
        "LR_pred = LR.predict(X_test)\n",
        "  \n",
        "Accuracy_LR = accuracy_score(LR_pred, y_test)\n",
        "Accuracy_Precision_LR = precision_score(LR_pred, y_test)\n",
        "Accuracy_Recall_LR = recall_score(LR_pred, y_test)\n",
        "\n",
        "# print classification report\n",
        "print(classification_report(y_test, LR_pred))\n",
        "\n",
        "Plot_confusion_matrix(y_test, LR_pred)"
      ],
      "metadata": {
        "colab": {
          "base_uri": "https://localhost:8080/",
          "height": 526
        },
        "id": "D6kuDniJwoPv",
        "outputId": "f575be5a-09fe-42a0-9cb3-bdf881ca4c65"
      },
      "execution_count": 33,
      "outputs": [
        {
          "output_type": "stream",
          "name": "stdout",
          "text": [
            "\tLogistic Regression\n",
            "              precision    recall  f1-score   support\n",
            "\n",
            "           0       1.00      1.00      1.00     85296\n",
            "           1       0.88      0.62      0.73       147\n",
            "\n",
            "    accuracy                           1.00     85443\n",
            "   macro avg       0.94      0.81      0.86     85443\n",
            "weighted avg       1.00      1.00      1.00     85443\n",
            "\n"
          ]
        },
        {
          "output_type": "display_data",
          "data": {
            "text/plain": [
              "<Figure size 432x288 with 1 Axes>"
            ],
            "image/png": "[encoded data removed]"
          },
          "metadata": {
            "needs_background": "light"
          }
        }
      ]
    },
    {
      "cell_type": "code",
      "source": [
        "# print(\"\\t SVM Model\")\n",
        "\n",
        "# svm=SVC()\n",
        "\n",
        "# #training\n",
        "# svm.fit(X_train, y_train)\n",
        "\n",
        "# #find prediction values\n",
        "# svm_pred=svm.predict(X_test)\n",
        "\n",
        "\n",
        "# Accuracy_SVM = accuracy_score(svm_pred, y_test)\n",
        "# Accuracy_Precision_SVM = precision_score(svm_pred, y_test)\n",
        "# Accuracy_Recall_SVM = recall_score(svm_pred, y_test)\n",
        "\n",
        "\n",
        "# # print classification report\n",
        "# print(classification_report(y_test, svm_pred))\n",
        "\n",
        "# Plot_confusion_matrix(y_test, svm_pred)"
      ],
      "metadata": {
        "id": "IVMxDJr4yOzw"
      },
      "execution_count": 9,
      "outputs": []
    },
    {
      "cell_type": "code",
      "source": [
        "# Using SMOTE Algorithm\n",
        "print(\"Before OverSampling, counts of label '1': {}\".format(sum(y_train == 1)))\n",
        "print(\"Before OverSampling, counts of label '0': {} \\n\".format(sum(y_train == 0)))\n",
        "  \n",
        "# import SMOTE module from imblearn library\n",
        "# pip install imblearn (if you don't have imblearn in your system)\n",
        "from imblearn.over_sampling import SMOTE\n",
        "sm = SMOTE(random_state = 2)\n",
        "X_train_res, y_train_res = sm.fit_resample(X_train, y_train.ravel())\n",
        "  \n",
        "print('After OverSampling, the shape of train_X: {}'.format(X_train_res.shape))\n",
        "print('After OverSampling, the shape of train_y: {} \\n'.format(y_train_res.shape))\n",
        "  \n",
        "print(\"After OverSampling, counts of label '1': {}\".format(sum(y_train_res == 1)))\n",
        "print(\"After OverSampling, counts of label '0': {}\".format(sum(y_train_res == 0)))\n",
        "\n"
      ],
      "metadata": {
        "colab": {
          "base_uri": "https://localhost:8080/"
        },
        "id": "zvoogNJ2zIzQ",
        "outputId": "ded39343-c535-46f2-df30-fc228f0123c0"
      },
      "execution_count": 36,
      "outputs": [
        {
          "output_type": "stream",
          "name": "stdout",
          "text": [
            "Before OverSampling, counts of label '1': 345\n",
            "Before OverSampling, counts of label '0': 199019 \n",
            "\n",
            "After OverSampling, the shape of train_X: (398038, 29)\n",
            "After OverSampling, the shape of train_y: (398038,) \n",
            "\n",
            "After OverSampling, counts of label '1': 199019\n",
            "After OverSampling, counts of label '0': 199019\n"
          ]
        }
      ]
    },
    {
      "cell_type": "code",
      "source": [
        "#Run Logistic Regression.\n",
        "\n",
        "print(\"\\tLogistic Regression\")\n",
        "LR = LogisticRegression()\n",
        "\n",
        "#training \n",
        "LR.fit(X_train_res, y_train_res.ravel())\n",
        "\n",
        "#find predicted vallues\n",
        "LR_pred = LR.predict(X_test)\n",
        "  \n",
        "Accuracy_LR = accuracy_score(LR_pred, y_test)\n",
        "Accuracy_Precision_LR = precision_score(LR_pred, y_test)\n",
        "Accuracy_Recall_LR = recall_score(LR_pred, y_test)\n",
        "\n",
        "# print classification report\n",
        "print(classification_report(y_test, LR_pred))\n",
        "\n",
        "Plot_confusion_matrix(y_test, LR_pred)"
      ],
      "metadata": {
        "colab": {
          "base_uri": "https://localhost:8080/",
          "height": 526
        },
        "id": "m6PNHssz33Jy",
        "outputId": "1671d5ec-ea4c-443e-f842-214d5f86c353"
      },
      "execution_count": 37,
      "outputs": [
        {
          "output_type": "stream",
          "name": "stdout",
          "text": [
            "\tLogistic Regression\n",
            "              precision    recall  f1-score   support\n",
            "\n",
            "           0       1.00      0.98      0.99     85296\n",
            "           1       0.06      0.92      0.11       147\n",
            "\n",
            "    accuracy                           0.98     85443\n",
            "   macro avg       0.53      0.95      0.55     85443\n",
            "weighted avg       1.00      0.98      0.99     85443\n",
            "\n"
          ]
        },
        {
          "output_type": "display_data",
          "data": {
            "text/plain": [
              "<Figure size 432x288 with 1 Axes>"
            ],
            "image/png": "[encoded data removed]"
          },
          "metadata": {
            "needs_background": "light"
          }
        }
      ]
    },
    {
      "cell_type": "code",
      "source": [
        "# Using RandomUnderSampler\n",
        "\n",
        "print(\"Before Undersampling, counts of label '1': {}\".format(sum(y_train == 1)))\n",
        "print(\"Before Undersampling, counts of label '0': {} \\n\".format(sum(y_train == 0)))\n",
        "  \n",
        "# apply undersampler\n",
        "from imblearn.under_sampling import RandomUnderSampler \n",
        "rs = RandomUnderSampler()\n",
        "  \n",
        "X_train_rs, y_train_rs = rs.fit_resample(X_train, y_train.ravel())\n",
        "  \n",
        "print('After Undersampling, the shape of train_X: {}'.format(X_train_rs.shape))\n",
        "print('After Undersampling, the shape of train_y: {} \\n'.format(y_train_rs.shape))\n",
        "  \n",
        "print(\"After Undersampling, counts of label '1': {}\".format(sum(y_train_rs == 1)))\n",
        "print(\"After Undersampling, counts of label '0': {}\".format(sum(y_train_rs == 0)))"
      ],
      "metadata": {
        "colab": {
          "base_uri": "https://localhost:8080/"
        },
        "id": "YKiFU5mQ3hro",
        "outputId": "28a7faa8-cf38-4d29-abf0-992c3e8b13f6"
      },
      "execution_count": 40,
      "outputs": [
        {
          "output_type": "stream",
          "name": "stdout",
          "text": [
            "Before Undersampling, counts of label '1': 345\n",
            "Before Undersampling, counts of label '0': 199019 \n",
            "\n",
            "After Undersampling, the shape of train_X: (690, 29)\n",
            "After Undersampling, the shape of train_y: (690,) \n",
            "\n",
            "After Undersampling, counts of label '1': 345\n",
            "After Undersampling, counts of label '0': 345\n"
          ]
        }
      ]
    },
    {
      "cell_type": "code",
      "source": [
        "#Run Logistic Regression.\n",
        "\n",
        "print(\"\\tLogistic Regression\")\n",
        "LR = LogisticRegression()\n",
        "\n",
        "#training \n",
        "LR.fit(X_train_rs, y_train_rs.ravel())\n",
        "\n",
        "#find predicted vallues\n",
        "LR_pred = LR.predict(X_test)\n",
        "  \n",
        "Accuracy_LR = accuracy_score(LR_pred, y_test)\n",
        "Accuracy_Precision_LR = precision_score(LR_pred, y_test)\n",
        "Accuracy_Recall_LR = recall_score(LR_pred, y_test)\n",
        "\n",
        "# print classification report\n",
        "print(classification_report(y_test, LR_pred))\n",
        "\n",
        "Plot_confusion_matrix(y_test, LR_pred)"
      ],
      "metadata": {
        "colab": {
          "base_uri": "https://localhost:8080/",
          "height": 526
        },
        "id": "3OdbGS7MzYlg",
        "outputId": "8dfb2f24-b918-47db-a4e0-ee07611181fb"
      },
      "execution_count": 41,
      "outputs": [
        {
          "output_type": "stream",
          "name": "stdout",
          "text": [
            "\tLogistic Regression\n",
            "              precision    recall  f1-score   support\n",
            "\n",
            "           0       1.00      0.97      0.99     85296\n",
            "           1       0.06      0.90      0.11       147\n",
            "\n",
            "    accuracy                           0.97     85443\n",
            "   macro avg       0.53      0.94      0.55     85443\n",
            "weighted avg       1.00      0.97      0.99     85443\n",
            "\n"
          ]
        },
        {
          "output_type": "display_data",
          "data": {
            "text/plain": [
              "<Figure size 432x288 with 1 Axes>"
            ],
            "image/png": "[encoded data removed]"
          },
          "metadata": {
            "needs_background": "light"
          }
        }
      ]
    }
  ]
}