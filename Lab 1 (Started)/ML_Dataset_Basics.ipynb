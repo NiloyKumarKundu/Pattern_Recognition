{
  "nbformat": 4,
  "nbformat_minor": 0,
  "metadata": {
    "colab": {
      "name": "ML-Dataset_Basics.ipynb",
      "provenance": [],
      "collapsed_sections": []
    },
    "kernelspec": {
      "name": "python3",
      "display_name": "Python 3"
    },
    "language_info": {
      "name": "python"
    }
  },
  "cells": [
    {
      "cell_type": "code",
      "execution_count": 41,
      "metadata": {
        "id": "Rxw6IrgSetI-"
      },
      "outputs": [],
      "source": [
        "import pandas as pd"
      ]
    },
    {
      "cell_type": "code",
      "source": [
        "from google.colab import drive\n",
        "drive.mount('/content/drive')"
      ],
      "metadata": {
        "colab": {
          "base_uri": "https://localhost:8080/"
        },
        "id": "ZMu9lGA1gFme",
        "outputId": "2be4490d-7eca-449e-b23f-08240e926518"
      },
      "execution_count": 42,
      "outputs": [
        {
          "output_type": "stream",
          "name": "stdout",
          "text": [
            "Drive already mounted at /content/drive; to attempt to forcibly remount, call drive.mount(\"/content/drive\", force_remount=True).\n"
          ]
        }
      ]
    },
    {
      "cell_type": "code",
      "source": [
        "data=pd.read_csv('/content/drive/MyDrive/Pattern Lab/diabetes.csv')\n",
        "print(data)\n",
        "print(data.columns)"
      ],
      "metadata": {
        "colab": {
          "base_uri": "https://localhost:8080/"
        },
        "id": "irJJojFThnU7",
        "outputId": "2a452293-7aaa-4484-a1b4-5512f3b50c02"
      },
      "execution_count": 43,
      "outputs": [
        {
          "output_type": "stream",
          "name": "stdout",
          "text": [
            "     Pregnancies  Glucose  ...  Age  Outcome\n",
            "0              6      148  ...   50        1\n",
            "1              1       85  ...   31        0\n",
            "2              8      183  ...   32        1\n",
            "3              1       89  ...   21        0\n",
            "4              0      137  ...   33        1\n",
            "..           ...      ...  ...  ...      ...\n",
            "763           10      101  ...   63        0\n",
            "764            2      122  ...   27        0\n",
            "765            5      121  ...   30        0\n",
            "766            1      126  ...   47        1\n",
            "767            1       93  ...   23        0\n",
            "\n",
            "[768 rows x 9 columns]\n",
            "Index(['Pregnancies', 'Glucose', 'BloodPressure', 'SkinThickness', 'Insulin',\n",
            "       'BMI', 'DiabetesPedigreeFunction', 'Age', 'Outcome'],\n",
            "      dtype='object')\n"
          ]
        }
      ]
    },
    {
      "cell_type": "code",
      "source": [
        "from sklearn.model_selection import train_test_split\n",
        "\n",
        "datax = data.loc[:,data.columns != 'Outcome']\n",
        "\n",
        "datay = data['Outcome']\n",
        "\n",
        "trainx, testx, trainy, testy = train_test_split(datax, datay, train_size = 0.75, random_state= 20, stratify=datay)\n",
        "\n",
        "print(trainx.shape)\n",
        "print(testx.shape)\n",
        "\n",
        "print(trainy.shape)\n",
        "print(testy.shape)"
      ],
      "metadata": {
        "colab": {
          "base_uri": "https://localhost:8080/"
        },
        "id": "velINQgZjJXs",
        "outputId": "dcf2e3f5-0b9d-44ec-e9e9-6cbb7b892ca4"
      },
      "execution_count": 44,
      "outputs": [
        {
          "output_type": "stream",
          "name": "stdout",
          "text": [
            "(576, 8)\n",
            "(192, 8)\n",
            "(576,)\n",
            "(192,)\n"
          ]
        }
      ]
    },
    {
      "cell_type": "code",
      "source": [
        "from sklearn.preprocessing import StandardScaler, MinMaxScaler\n",
        "\n",
        "sc=StandardScaler()\n",
        "mc=MinMaxScaler()\n",
        "\n",
        "sc.fit(trainx)\n",
        "sc_trainx=sc.transform(trainx)\n",
        "sc_testx= sc.transform(testx)\n",
        "print(sc_trainx)\n",
        "print(sc_testx)\n",
        "\n",
        "\n",
        "mc.fit(trainx)\n",
        "mc_trainx=mc.transform(trainx)\n",
        "mc_testx= mc.transform(testx)\n",
        "print(mc_trainx)\n",
        "print(mc_testx)\n"
      ],
      "metadata": {
        "colab": {
          "base_uri": "https://localhost:8080/"
        },
        "id": "SDYGXyj2rpxs",
        "outputId": "b85cef4d-1eac-4a2a-a0c5-1c9d271f8a0a"
      },
      "execution_count": 45,
      "outputs": [
        {
          "output_type": "stream",
          "name": "stdout",
          "text": [
            "[[-1.12222236 -0.49097183 -0.05899126 ... -1.50252071 -0.74069151\n",
            "  -0.95192397]\n",
            " [ 1.2208681   0.17258071  0.25660287 ... -0.77004429 -0.96799276\n",
            "   0.48920768]\n",
            " [ 1.2208681   1.46808804  1.93977156 ...  0.6824937  -0.95877785\n",
            "   0.82829748]\n",
            " ...\n",
            " [-1.12222236 -0.49097183 -0.26938735 ...  1.16667303 -0.93420474\n",
            "  -0.95192397]\n",
            " [-1.12222236 -0.93334018 -0.05899126 ...  0.96803536 -0.29530392\n",
            "  -0.69760662]\n",
            " [-1.12222236 -0.23818991  0.572197   ... -0.1368867   1.21901389\n",
            "  -1.03669643]]\n",
            "[[ 0.04932287  0.77293777  0.67739504 ...  0.04933612 -0.74376315\n",
            "   3.11715365]\n",
            " [-0.53644975  0.26737393  0.78259308 ... -0.50933234 -0.59325286\n",
            "  -0.52806172]\n",
            " [-0.53644975 -0.68055826 -0.47978344 ...  0.55834515 -0.07414594\n",
            "  -1.03669643]\n",
            " ...\n",
            " [-1.12222236 -0.83854696  0.04620678 ...  1.41497012 -0.39973963\n",
            "  -1.03669643]\n",
            " [ 0.63509548 -0.20659217  0.99298917 ... -0.53416205 -0.70690349\n",
            "   2.77806385]\n",
            " [-0.24356344  0.93092647  0.36180091 ... -1.37837217 -0.82976903\n",
            "   0.31966278]]\n",
            "[[0.         0.52763819 0.55737705 ... 0.29806259 0.06746371 0.01666667]\n",
            " [0.47058824 0.63316583 0.60655738 ... 0.38599106 0.03586678 0.3       ]\n",
            " [0.47058824 0.83919598 0.86885246 ... 0.56035768 0.03714774 0.36666667]\n",
            " ...\n",
            " [0.         0.52763819 0.52459016 ... 0.61847988 0.04056362 0.01666667]\n",
            " [0.         0.45728643 0.55737705 ... 0.59463487 0.1293766  0.06666667]\n",
            " [0.         0.5678392  0.6557377  ... 0.46199702 0.33988044 0.        ]]\n",
            "[[0.23529412 0.72864322 0.67213115 ... 0.48435171 0.06703672 0.81666667]\n",
            " [0.11764706 0.64824121 0.68852459 ... 0.41728763 0.08795901 0.1       ]\n",
            " [0.11764706 0.49748744 0.49180328 ... 0.54545455 0.16011956 0.        ]\n",
            " ...\n",
            " [0.         0.47236181 0.57377049 ... 0.64828614 0.11485909 0.        ]\n",
            " [0.35294118 0.57286432 0.72131148 ... 0.414307   0.07216055 0.75      ]\n",
            " [0.17647059 0.75376884 0.62295082 ... 0.31296572 0.05508113 0.26666667]]\n"
          ]
        }
      ]
    },
    {
      "cell_type": "code",
      "source": [
        "from sklearn.svm import SVC\n",
        "\n",
        "a=SVC()\n",
        "b=SVC()\n",
        "\n",
        "a.fit(mc_trainx, trainy)\n",
        "b.fit(sc_trainx, trainy)\n"
      ],
      "metadata": {
        "colab": {
          "base_uri": "https://localhost:8080/"
        },
        "id": "yoaq88XtzKsk",
        "outputId": "0d5b076b-3be9-4841-ee65-79f04005ebb4"
      },
      "execution_count": 46,
      "outputs": [
        {
          "output_type": "execute_result",
          "data": {
            "text/plain": [
              "SVC()"
            ]
          },
          "metadata": {},
          "execution_count": 46
        }
      ]
    },
    {
      "cell_type": "code",
      "source": [
        "from sklearn.metrics import accuracy_score, precision_score, recall_score, f1_score\n",
        "\n",
        "predict_y_mc = a.predict(mc_testx)\n",
        "print(predict_y_mc)\n",
        "\n",
        "predict_y_sc = b.predict(sc_testx)\n",
        "print(predict_y_sc)\n",
        "\n",
        "# score printing\n",
        "\n",
        "print(\"minmax\")\n",
        "mc_accuracy = accuracy_score(testy, predict_y_mc)\n",
        "print(mc_accuracy)\n",
        "mc_precision = precision_score(testy, predict_y_mc)\n",
        "print(mc_precision)\n",
        "mc_f1 = f1_score(testy, predict_y_mc)\n",
        "print(mc_f1)\n",
        "mc_recall = recall_score(testy, predict_y_mc)\n",
        "print(mc_recall)\n",
        "\n",
        "\n",
        "print(\"scandardscaler\")\n",
        "sc_accuracy = accuracy_score(testy, predict_y_sc)\n",
        "print(sc_accuracy)\n",
        "sc_precision = precision_score(testy, predict_y_sc)\n",
        "print(sc_precision)\n",
        "sc_f1 = f1_score(testy, predict_y_sc)\n",
        "print(sc_f1)\n",
        "sc_recall = recall_score(testy, predict_y_sc)\n",
        "print(sc_recall)"
      ],
      "metadata": {
        "colab": {
          "base_uri": "https://localhost:8080/"
        },
        "id": "PiXqY00W1ilU",
        "outputId": "0a48cee0-9bdb-4644-a2ec-f81a4b109765"
      },
      "execution_count": 47,
      "outputs": [
        {
          "output_type": "stream",
          "name": "stdout",
          "text": [
            "[0 0 0 1 0 0 1 0 1 1 0 1 0 1 0 0 1 0 0 0 0 0 0 0 0 0 1 0 0 0 0 0 0 1 0 0 0\n",
            " 0 0 1 1 0 0 0 0 0 0 0 0 0 1 1 0 0 0 0 1 1 1 0 0 0 1 0 0 1 0 0 1 0 0 0 0 0\n",
            " 0 0 0 0 0 0 0 0 1 0 0 0 1 0 0 1 0 0 0 0 0 1 0 0 0 0 0 1 0 0 0 1 0 0 0 1 1\n",
            " 0 0 1 1 0 0 0 0 0 1 0 0 1 0 1 0 1 0 1 0 0 0 0 0 1 1 0 0 0 1 0 0 1 1 0 0 0\n",
            " 0 0 1 1 1 0 0 0 0 0 0 0 0 0 0 0 0 1 0 0 0 0 1 1 0 0 1 0 1 0 0 0 1 0 1 0 0\n",
            " 0 0 0 0 0 0 0]\n",
            "[0 0 0 1 0 0 1 0 1 1 0 1 0 1 0 0 1 0 0 0 0 0 0 0 0 0 1 0 0 0 0 0 0 0 0 0 0\n",
            " 0 0 1 1 0 0 0 0 0 0 0 0 1 1 1 0 0 0 0 1 1 1 0 0 0 1 0 0 1 0 0 1 0 0 0 0 0\n",
            " 0 0 0 0 0 0 0 0 1 0 0 0 1 0 0 1 0 0 0 0 0 1 0 0 0 0 0 1 0 0 0 1 0 0 0 1 1\n",
            " 0 0 1 1 0 0 0 0 0 1 0 0 1 0 1 0 1 0 1 0 0 1 0 0 1 0 0 0 0 1 0 0 1 1 0 0 0\n",
            " 0 0 1 1 1 0 0 0 0 0 0 1 0 0 0 1 0 1 0 0 0 0 1 1 0 0 1 0 1 0 0 0 1 0 1 0 0\n",
            " 0 0 0 0 0 0 0]\n",
            "minmax\n",
            "0.7916666666666666\n",
            "0.7755102040816326\n",
            "0.6551724137931034\n",
            "0.5671641791044776\n",
            "scandardscaler\n",
            "0.78125\n",
            "0.7450980392156863\n",
            "0.6440677966101696\n",
            "0.5671641791044776\n"
          ]
        }
      ]
    },
    {
      "cell_type": "code",
      "source": [
        "array_of_dictionary = [{}, {}, {}, {}]\n",
        "\n",
        "\n",
        "for x in data.columns\n",
        "  array_of_dictionary.append({x})\n",
        "\n",
        "dictionary_outlook = {}\n",
        "\n",
        "dictionary_outlook['sunny'] = []\n",
        "\n",
        "dictidictionary_outlookonary['sunny'].append(2/9) # For yes\n",
        "dictionary_outlook['sunny'].append(3/5) # For no\n",
        "\n",
        "dictionary_outlook['rain'] = []\n",
        "\n"
      ],
      "metadata": {
        "id": "-0NZpsC8-VUF"
      },
      "execution_count": null,
      "outputs": []
    }
  ]
}